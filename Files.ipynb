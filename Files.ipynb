{
 "cells": [
  {
   "cell_type": "code",
   "id": "initial_id",
   "metadata": {
    "collapsed": true,
    "ExecuteTime": {
     "end_time": "2025-02-23T07:17:26.322827Z",
     "start_time": "2025-02-23T07:17:26.318893Z"
    }
   },
   "source": [
    "#Tạo một tệp tin my_file.txt chưa nội dung bất kì, viết chương trình đọc nội dung bên trong tập tin trên, nếu tệp tin rỗng hiển thị lỗi tệp tin rỗng.\n",
    "import os\n",
    "\n",
    "path = 'my_file.txt'\n",
    "\n",
    "if os.path.isfile(path):\n",
    "    f = open(path, 'r')\n",
    "    print(f.read())\n",
    "    f.close()\n",
    "else:\n",
    "    print('File not found')"
   ],
   "outputs": [
    {
     "name": "stdout",
     "output_type": "stream",
     "text": [
      "My name is Hoangson Le\n",
      "My student id is 3123560077\n"
     ]
    }
   ],
   "execution_count": 3
  },
  {
   "metadata": {
    "ExecuteTime": {
     "end_time": "2025-02-23T07:27:23.578024Z",
     "start_time": "2025-02-23T07:26:53.024790Z"
    }
   },
   "cell_type": "code",
   "source": [
    "#viết chương trình cho phép tạo một tệp tin với tên được nhập từ bàn phím với đuôi mở rộng là txt. Sau khi tạo tệp tin đó, in vào đó nội dung 'Python is high level programing language'\n",
    "path = str(input('Enter file name: '))\n",
    "with open(path, 'w') as f:\n",
    "    content = input(\"Enter content: \")\n",
    "    f.write(content)"
   ],
   "id": "788b6b8b833aaac6",
   "outputs": [],
   "execution_count": 7
  },
  {
   "metadata": {},
   "cell_type": "code",
   "source": [
    "#Viết chương trình máy tính thực hiện các phép toán cơ bản như cộng trừ nhân chia, kết quả của phép toán được lưu vào tệp tin result.txt, (tệp tin sẽ được tạo tự động nếu không tồn tại).\n",
    "class Calculator:\n",
    "    sum = lambda a, b: a + b\n",
    "    sub = lambda a, b: a - b\n",
    "    mul = lambda a, b: a * b\n",
    "    div = lambda a, b: a / b if b != 0 else 'Error: Division by zero'\n",
    "\n",
    "def save_history(s):\n",
    "    with open('result.txt', 'a+') as f:\n",
    "        f.write(s + '\\n')\n",
    "\n",
    "if __name__ == '__main__':\n",
    "    while True:\n",
    "        print('1. sum')\n",
    "        print('2. sub')\n",
    "        print('3. mul')\n",
    "        print('4. div')\n",
    "        print('0. exit')\n",
    "\n",
    "        try:\n",
    "            choice = int(input('Enter your choice: '))\n",
    "            if choice not in range(1, 5):\n",
    "                print('Invalid choice')\n",
    "            if choice == 0:\n",
    "                print('exit')\n",
    "                break\n",
    "            a = int(input('Enter a number: '))\n",
    "            b = int(input('Enter another number: '))\n",
    "        except ValueError:\n",
    "            print('Invalid input')\n",
    "            continue\n",
    "\n",
    "        if choice == 1:\n",
    "            s = Calculator.sum(a, b)\n",
    "            operation = f'{a} + {b} = {s}'\n",
    "        elif choice == 2:\n",
    "            s = Calculator.sub(a, b)\n",
    "            operation = f'{a} - {b} = {s}'\n",
    "        elif choice == 3:\n",
    "            s = Calculator.mul(a, b)\n",
    "            operation = f'{a} * {b} = {s}'\n",
    "        elif choice == 4:\n",
    "            s = Calculator.div(a, b)\n",
    "            operation = f'{a} / {b} = {s}'\n",
    "\n",
    "        print(f'Result: {s}')\n",
    "        save_history(operation)"
   ],
   "id": "3d2fc89300381b15",
   "outputs": [],
   "execution_count": null
  },
  {
   "metadata": {
    "ExecuteTime": {
     "end_time": "2025-02-23T08:26:25.889906Z",
     "start_time": "2025-02-23T08:26:25.882213Z"
    }
   },
   "cell_type": "code",
   "source": [
    "#Viết chương trình đọc vào một nội dung từ tệp tin text.txt, sau đó thực hiện việc chuẩn hóa nội dung: cắt khoảng trắng đầu cuối, loại bỏ các khoảng trắng dư thừa, viết hoa từ đầu tiên và sau dấu chấm, sau đó lưu nội dung vào tệp result2.txt.\n",
    "#Thông báo lỗi được đưa ra nếu text.txt rỗng.\n",
    "\n",
    "import os\n",
    "import re\n",
    "\n",
    "def normalize_text(text):\n",
    "    text = ' '.join(text.strip().split())\n",
    "    sentences = re.split(r'([.?!]\\s*)', text)\n",
    "    sentences = [s.capitalize() for s in sentences]\n",
    "    return ''.join(sentences)\n",
    "\n",
    "path = 'text.txt'\n",
    "if os.path.isfile(path):\n",
    "    if os.path.getsize(path) == 0:\n",
    "        print('File is empty')\n",
    "    else:\n",
    "        with open(path, 'r') as f:\n",
    "            content = f.read()\n",
    "            normalize_content = normalize_text(content)\n",
    "\n",
    "            with open('result2.txt', 'w+', encoding = 'utf-8') as f:\n",
    "                f.write(normalize_content)\n",
    "                print(f\"Normalized content saved to 'result2.txt'.\")\n",
    "else:\n",
    "    print('File not found')"
   ],
   "id": "27a2b5693d909c72",
   "outputs": [
    {
     "name": "stdout",
     "output_type": "stream",
     "text": [
      "Normalized content saved to 'result2.txt'.\n"
     ]
    }
   ],
   "execution_count": 18
  }
 ],
 "metadata": {
  "kernelspec": {
   "display_name": "Python 3",
   "language": "python",
   "name": "python3"
  },
  "language_info": {
   "codemirror_mode": {
    "name": "ipython",
    "version": 2
   },
   "file_extension": ".py",
   "mimetype": "text/x-python",
   "name": "python",
   "nbconvert_exporter": "python",
   "pygments_lexer": "ipython2",
   "version": "2.7.6"
  }
 },
 "nbformat": 4,
 "nbformat_minor": 5
}
