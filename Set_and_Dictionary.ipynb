{
 "cells": [
  {
   "metadata": {
    "ExecuteTime": {
     "end_time": "2025-02-18T07:14:25.886900Z",
     "start_time": "2025-02-18T07:14:21.330823Z"
    }
   },
   "cell_type": "code",
   "source": [
    "\n",
    "#Viết chương trình nhập vào một set các sô nguyên từ bàn phím, in ra tổng các phần tử trong set đó\n",
    "numbers = input('Enter a set of numbers separated by spaces: ').split()\n",
    "my_set = set(int(number) for number in numbers)\n",
    "print(sum(my_set))"
   ],
   "id": "721f692c877c4018",
   "outputs": [
    {
     "name": "stdout",
     "output_type": "stream",
     "text": [
      "5\n"
     ]
    }
   ],
   "execution_count": 6
  },
  {
   "metadata": {
    "ExecuteTime": {
     "end_time": "2025-02-18T13:53:23.985573Z",
     "start_time": "2025-02-18T13:53:09.648688Z"
    }
   },
   "cell_type": "code",
   "source": [
    "#Viết chương trình nhập vào hai set từ bàn phím và in ra các set chứa phần tử chung là số của của hai set đó và in ra màn hình\n",
    "element_list1 = set(input('Enter elements of set separated by spaces: ').split())\n",
    "element_list2 = set(input('Enter elements of set separated by spaces: ').split())\n",
    "intersection_set = {x for x in element_list1 & element_list2 if x.isdigit()}\n",
    "print(intersection_set)"
   ],
   "id": "6153555f926159e0",
   "outputs": [
    {
     "name": "stdout",
     "output_type": "stream",
     "text": [
      "set()\n"
     ]
    }
   ],
   "execution_count": 5
  },
  {
   "metadata": {
    "ExecuteTime": {
     "end_time": "2025-02-18T14:08:19.748818Z",
     "start_time": "2025-02-18T14:07:59.938677Z"
    }
   },
   "cell_type": "code",
   "source": [
    "#Viết chương trình Python để đếm số lần xuất hiện của các ký tự trong một chuỗi. Đầu vào là một chuỗi, đầu ra là một từ điển với các ký tự là khóa và số lần xuất hiện là giá trị.\n",
    "s = str(input('Enter a string: '))\n",
    "char_counting = {}\n",
    "for i in s:\n",
    "    if i in char_counting:\n",
    "        char_counting[i] = char_counting[i] + 1\n",
    "    else:\n",
    "        char_counting[i] = 1\n",
    "print(char_counting)"
   ],
   "id": "104e889e5c24acc",
   "outputs": [
    {
     "name": "stdout",
     "output_type": "stream",
     "text": [
      "{'X': 1, 'i': 2, 'n': 4, ' ': 7, 'c': 1, 'h': 1, 'à': 3, 'o': 2, ',': 1, 't': 2, 'ô': 1, 'ê': 2, 'l': 1, 'L': 1, 'H': 1, 'g': 1, 'S': 1, 'ơ': 1}\n"
     ]
    }
   ],
   "execution_count": 7
  },
  {
   "metadata": {
    "ExecuteTime": {
     "end_time": "2025-02-18T14:25:31.328569Z",
     "start_time": "2025-02-18T14:25:20.604879Z"
    }
   },
   "cell_type": "code",
   "source": [
    "#Viết chương trình tính tổng các giá trị là số thực có trong dictionary\n",
    "keys = input('Enter keys separated by spaces: ').split()\n",
    "values = input('Enter values separated by spaces: ').split()\n",
    "if len(keys) != len(values):\n",
    "    raise ValueError('Keys and values are not of the same length')\n",
    "else:\n",
    "    new_dict = dict(zip(keys, values))\n",
    "    sum_values = sum(float(value) for value in new_dict.values() if value.replace('.','',1).isdigit())\n",
    "    print(sum_values)"
   ],
   "id": "e2c66679b2925c29",
   "outputs": [
    {
     "name": "stdout",
     "output_type": "stream",
     "text": [
      "60.0\n"
     ]
    }
   ],
   "execution_count": 3
  },
  {
   "metadata": {
    "ExecuteTime": {
     "end_time": "2025-02-18T14:50:28.163529Z",
     "start_time": "2025-02-18T14:50:10.311870Z"
    }
   },
   "cell_type": "code",
   "source": [
    "#Viết chương trình gộp từ điển, đầu vào la hai từ điển có cấu trúc giống nhau, một từ điển mới được tạo ra bằng cách gộp hai từ điển vào, nếu có khóa trùng lặp, giá trị từ điển mới sẽ là tổng của hai giá trị tương ứng.\n",
    "keys_in_dict1 = input('Enter keys in first dictionary separated by spaces: ').split()\n",
    "keys_in_dict2 = input('Enter keys in second dictionary separated by spaces: ').split()\n",
    "values_in_dict1 = input('Enter values in first dictionary separated by spaces: ').split()\n",
    "values_in_dict2 = input('Enter values in second dictionary separated by spaces: ').split()\n",
    "\n",
    "if len(keys_in_dict1) != len(values_in_dict1) or len(keys_in_dict2) != len(values_in_dict2):\n",
    "    raise ValueError('Keys and values are not of the same length')\n",
    "\n",
    "d1 = dict(zip(keys_in_dict1, map(float, values_in_dict1)))\n",
    "d2 = dict(zip(keys_in_dict2, map(float, values_in_dict2)))\n",
    "\n",
    "d3 = d1.copy()\n",
    "for key, value in d2.items():\n",
    "    d3[key] = d3.get(key, 0) + value\n",
    "\n",
    "print(f'first dictionary: {d1}')\n",
    "print(f'second dictionary: {d2}')\n",
    "print(f'merged dictionary: {d3}')"
   ],
   "id": "6e57bb52ca22cacb",
   "outputs": [
    {
     "name": "stdout",
     "output_type": "stream",
     "text": [
      "first dictionary: {'a': 10.0, 'b': 20.0, 'c': 30.0}\n",
      "second dictionary: {'b': 15.0, 'c': 25.0, 'd': 35.0}\n",
      "merged dictionary: {'a': 10.0, 'b': 35.0, 'c': 55.0, 'd': 35.0}\n"
     ]
    }
   ],
   "execution_count": 8
  }
 ],
 "metadata": {
  "kernelspec": {
   "name": "python3",
   "language": "python",
   "display_name": "Python 3 (ipykernel)"
  }
 },
 "nbformat": 5,
 "nbformat_minor": 9
}
