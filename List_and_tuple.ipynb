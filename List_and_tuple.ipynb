{
 "cells": [
  {
   "cell_type": "code",
   "id": "initial_id",
   "metadata": {
    "collapsed": true,
    "ExecuteTime": {
     "end_time": "2025-02-18T04:35:53.214755Z",
     "start_time": "2025-02-18T04:35:46.356394Z"
    }
   },
   "source": [
    " #Viết chương trình nhập vào một dãy các số nguyên cách nhau bởi dấu phẩy, lưu vào một list và in ra\n",
    "numbers = input(\"Enter integers separated by spaces: \").split()\n",
    "numbers = [int(num) for num in numbers]\n",
    "print(numbers)"
   ],
   "outputs": [
    {
     "name": "stdout",
     "output_type": "stream",
     "text": [
      "[3, -4, 5, 7, 8]\n"
     ]
    }
   ],
   "execution_count": 2
  },
  {
   "metadata": {
    "ExecuteTime": {
     "end_time": "2025-02-18T04:44:44.709628Z",
     "start_time": "2025-02-18T04:44:36.800858Z"
    }
   },
   "cell_type": "code",
   "source": [
    "#Viết chương trình nhập vào dãy các số nguyên cách nhau bởi dấu phẩy, lưu dãy đó vào tuple theo thứ tự giảm dần\n",
    "numbers = input(\"Enter integers separated by spaces: \").split()\n",
    "tuple_number = tuple(int(num) for num in numbers)\n",
    "decrease_sorted_tuple = tuple(sorted(tuple_number, reverse=True))\n",
    "print(decrease_sorted_tuple)"
   ],
   "id": "2d04bdf9ad601727",
   "outputs": [
    {
     "name": "stdout",
     "output_type": "stream",
     "text": [
      "(100, 10, 6, 4, -5)\n"
     ]
    }
   ],
   "execution_count": 8
  },
  {
   "metadata": {
    "ExecuteTime": {
     "end_time": "2025-02-18T04:56:28.152787Z",
     "start_time": "2025-02-18T04:56:23.081719Z"
    }
   },
   "cell_type": "code",
   "source": [
    "#Viết chương trình tính tổng phần tử có trong list số nguyên nhập từ bàn phím\n",
    "integers = input(\"Enter integers separated by spaces: \").split()\n",
    "integers_list_summary = sum([int(num) for num in integers])\n",
    "print(integers_list_summary)"
   ],
   "id": "a8338f93ee06a54a",
   "outputs": [
    {
     "name": "stdout",
     "output_type": "stream",
     "text": [
      "62\n"
     ]
    }
   ],
   "execution_count": 17
  },
  {
   "metadata": {
    "ExecuteTime": {
     "end_time": "2025-02-18T05:06:54.970684Z",
     "start_time": "2025-02-18T05:06:46.789291Z"
    }
   },
   "cell_type": "code",
   "source": [
    "#Viết chương trình tính tổng các số nguyên dương (bao gồm số nguyên và số thực) có trong list bất kì:\n",
    "numbers_list = input(\"Enter integers separated by spaces: \").split()\n",
    "try:\n",
    "    positive_sum = sum(float(num) for num in numbers_list if num.replace('.','',1).isdigit() and float(num) > 0)\n",
    "    result = positive_sum if positive_sum > 0 else -1\n",
    "except ValueError:\n",
    "    result = -1\n",
    "print(result)\n"
   ],
   "id": "a056868be067171",
   "outputs": [
    {
     "name": "stdout",
     "output_type": "stream",
     "text": [
      "11.0\n"
     ]
    }
   ],
   "execution_count": 27
  },
  {
   "metadata": {
    "ExecuteTime": {
     "end_time": "2025-02-18T05:19:17.014308Z",
     "start_time": "2025-02-18T05:18:59.340231Z"
    }
   },
   "cell_type": "code",
   "source": [
    "#Viết chương trình nhập vào một list số nguyên và một tuple từ bàn phím.\n",
    "#Tạo một list mới chứa tất cả các phần tử của lít và tuple đã nhập.\n",
    "l = list(input(\"Enter integers separated by spaces: \").split())\n",
    "t = tuple(input(\"Enter integers separated by spaces: \").split())\n",
    "perfect_list = l + list(t)\n",
    "print('list:', l)\n",
    "print('tuple:', t)\n",
    "print('perfect list:', perfect_list)\n"
   ],
   "id": "f9e8902753fa5cb",
   "outputs": [
    {
     "name": "stdout",
     "output_type": "stream",
     "text": [
      "list: ['1', '2', '5', '8', '10', '30']\n",
      "tuple: ('hello', '4', 'abc', '-2')\n",
      "perfect list: ['1', '2', '5', '8', '10', '30', 'hello', '4', 'abc', '-2']\n"
     ]
    }
   ],
   "execution_count": 30
  }
 ],
 "metadata": {
  "kernelspec": {
   "display_name": "Python 3",
   "language": "python",
   "name": "python3"
  },
  "language_info": {
   "codemirror_mode": {
    "name": "ipython",
    "version": 2
   },
   "file_extension": ".py",
   "mimetype": "text/x-python",
   "name": "python",
   "nbconvert_exporter": "python",
   "pygments_lexer": "ipython2",
   "version": "2.7.6"
  }
 },
 "nbformat": 4,
 "nbformat_minor": 5
}
