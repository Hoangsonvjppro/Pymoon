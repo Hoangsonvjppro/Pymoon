{
 "cells": [
  {
   "cell_type": "code",
   "id": "initial_id",
   "metadata": {
    "collapsed": true,
    "ExecuteTime": {
     "end_time": "2025-02-17T18:35:31.954018Z",
     "start_time": "2025-02-17T18:35:27.597671Z"
    }
   },
   "source": [
    "# Viết chương trình tính tổng các số chẵn từ 1 đến n(n >= 1):\n",
    "n = int(input('Enter a number greater than 0: '))\n",
    "if n <= 0:\n",
    "    print('Invalid input')\n",
    "else:\n",
    "    sumary = 0\n",
    "    for i in range(1, n + 1):\n",
    "        if i % 2 == 0:\n",
    "            sumary += i\n",
    "            print(i, end=' ')\n",
    "    print('sum =', sumary)"
   ],
   "outputs": [
    {
     "name": "stdout",
     "output_type": "stream",
     "text": [
      "2 4 6 8 10 sum = 30\n"
     ]
    }
   ],
   "execution_count": 3
  },
  {
   "metadata": {},
   "cell_type": "markdown",
   "source": "Cách 2",
   "id": "485250421fb03df0"
  },
  {
   "metadata": {
    "ExecuteTime": {
     "end_time": "2025-02-17T18:35:50.361357Z",
     "start_time": "2025-02-17T18:35:47.133789Z"
    }
   },
   "cell_type": "code",
   "source": [
    "n = int(input('Enter a number greater than 0: '))\n",
    "if n <= 0:\n",
    "    print('Invalid input')\n",
    "else:\n",
    "    total = sum([i for i in range(1, n + 1) if i % 2 == 0])  # Sử dụng 'sum' tích hợp\n",
    "    print(total)\n"
   ],
   "id": "8c87ace959642993",
   "outputs": [
    {
     "name": "stdout",
     "output_type": "stream",
     "text": [
      "9120\n"
     ]
    }
   ],
   "execution_count": 5
  },
  {
   "metadata": {
    "ExecuteTime": {
     "end_time": "2025-02-17T18:42:04.742995Z",
     "start_time": "2025-02-17T18:41:51.747542Z"
    }
   },
   "cell_type": "code",
   "source": [
    "#Viết chương trình in ra màn hình chuỗi đảo ngược, biết rằng chuỗi ban đầu được nhập từ bàn phím.\n",
    "string_S = str(input('Enter a string: '))\n",
    "for char in range(len(string_S) - 1, -1, -1 ):\n",
    "    reverse_string = string_S[char]\n",
    "    print(reverse_string, end='')"
   ],
   "id": "785a7e13e3c65b9",
   "outputs": [
    {
     "name": "stdout",
     "output_type": "stream",
     "text": [
      "noS al net iot ,oahc niX"
     ]
    }
   ],
   "execution_count": 13
  },
  {
   "metadata": {},
   "cell_type": "markdown",
   "source": "cách 2",
   "id": "1bb840c23d7ad3d9"
  },
  {
   "metadata": {
    "ExecuteTime": {
     "end_time": "2025-02-17T18:43:52.500888Z",
     "start_time": "2025-02-17T18:43:45.850322Z"
    }
   },
   "cell_type": "code",
   "outputs": [
    {
     "name": "stdout",
     "output_type": "stream",
     "text": [
      "uoy era eoH\n"
     ]
    }
   ],
   "execution_count": 16,
   "source": [
    "string_S_2 = str(input('Enter a string: '))\n",
    "reverse_string_2 = string_S_2[::-1]\n",
    "print(reverse_string_2)"
   ],
   "id": "7e1f02b16347c60c"
  },
  {
   "metadata": {
    "ExecuteTime": {
     "end_time": "2025-02-17T18:51:05.009573Z",
     "start_time": "2025-02-17T18:50:59.135633Z"
    }
   },
   "cell_type": "code",
   "source": [
    "#Viết chương trình tính giá trị của biểu thức f(x) = 1 + x + x^2 + ... + x^n\n",
    "x = float(input('Enter a parameter x: '))\n",
    "n = int(input('Enter an interger n >= 0: '))\n",
    "if n < 0:\n",
    "    print('Invalid input')\n",
    "else:\n",
    "    result = 0\n",
    "    while n >= 0:\n",
    "        result += x**n\n",
    "        n -= 1\n",
    "    print(f'f({x}) =',result)"
   ],
   "id": "65ae525a196038f1",
   "outputs": [
    {
     "name": "stdout",
     "output_type": "stream",
     "text": [
      "f(3.0) = 364.0\n"
     ]
    }
   ],
   "execution_count": 21
  },
  {
   "metadata": {
    "ExecuteTime": {
     "end_time": "2025-02-17T18:55:22.110679Z",
     "start_time": "2025-02-17T18:55:20.270887Z"
    }
   },
   "cell_type": "code",
   "source": [
    "#Viết chương trình tính n!\n",
    "n = int(input('Enter an integer n >= 0: '))\n",
    "if n < 0:\n",
    "    print('Invalid input')\n",
    "else:\n",
    "    factorial = 1\n",
    "    for i in range(1, n + 1):\n",
    "        factorial *= i\n",
    "        print(i, end=' ')\n",
    "    print(f'factorial({n}) =',factorial)"
   ],
   "id": "d29b67e933bbb5c8",
   "outputs": [
    {
     "name": "stdout",
     "output_type": "stream",
     "text": [
      "1 2 3 4 5 6 7 8 factorial(8) = 40320\n"
     ]
    }
   ],
   "execution_count": 26
  },
  {
   "metadata": {},
   "cell_type": "markdown",
   "source": "Cách 2:",
   "id": "72d7707cb7aafd4b"
  },
  {
   "metadata": {
    "ExecuteTime": {
     "end_time": "2025-02-17T19:01:25.124132Z",
     "start_time": "2025-02-17T19:01:22.760886Z"
    }
   },
   "cell_type": "code",
   "source": [
    "import math\n",
    "n = int(input('Enter an integer n >= 0: '))\n",
    "if n < 0:\n",
    "    print('Invalid input')\n",
    "else:\n",
    "    factorial = math.prod([i for i in range(1, n + 1)])\n",
    "    print(f'factorial({n}) =', factorial)\n"
   ],
   "id": "ccf8709fda296a32",
   "outputs": [
    {
     "name": "stdout",
     "output_type": "stream",
     "text": [
      "factorial(8) = 40320\n"
     ]
    }
   ],
   "execution_count": 30
  },
  {
   "metadata": {
    "ExecuteTime": {
     "end_time": "2025-02-17T19:15:28.905622Z",
     "start_time": "2025-02-17T19:15:26.214725Z"
    }
   },
   "cell_type": "code",
   "source": [
    "#Viết chương trinh kiểm tra số nguyên tố\n",
    "n = int(input('Enter an integer n >= 0: '))\n",
    "if n < 0:\n",
    "    print('Invalid input')\n",
    "else:\n",
    "    if n < 2:\n",
    "        print(f'{n} is not a prime number')\n",
    "    else:\n",
    "        for i in range(2, int(n**0.5) + 1):\n",
    "            if n % i == 0:\n",
    "                print(f'{n} is not a prime number')\n",
    "                break\n",
    "        else:\n",
    "            print(f'{n} is a prime number')"
   ],
   "id": "9e658bc9748c9f71",
   "outputs": [
    {
     "name": "stdout",
     "output_type": "stream",
     "text": [
      "31 is a prime number\n"
     ]
    }
   ],
   "execution_count": 16
  },
  {
   "metadata": {
    "ExecuteTime": {
     "end_time": "2025-02-17T19:30:58.414644277Z",
     "start_time": "2025-02-17T19:30:26.482308Z"
    }
   },
   "cell_type": "code",
   "source": [
    "#Viết chương trình đếm số lương số nguyên tố trong đoạn [1:n]\n",
    "def is_prime(n):\n",
    "    if n < 0:\n",
    "        return False\n",
    "    else:\n",
    "        if n < 2:\n",
    "            return False\n",
    "        else:\n",
    "            for i in range(2, int(n**0.5) + 1):\n",
    "                if n % i == 0:\n",
    "                    return False\n",
    "            else:\n",
    "                return True\n",
    "n = int(input('Enter an integer n > 0: '))\n",
    "if n <= 0:\n",
    "    print('Invalid input')\n",
    "else:\n",
    "    primes = 0\n",
    "    for i in range(1, n + 1):\n",
    "        if is_prime(i):\n",
    "            primes += 1\n",
    "    print(f'prime factors in[1,{n}] =',primes)"
   ],
   "id": "964fc7508f7f1d24",
   "outputs": [],
   "execution_count": null
  }
 ],
 "metadata": {
  "kernelspec": {
   "display_name": "Python 3",
   "language": "python",
   "name": "python3"
  },
  "language_info": {
   "codemirror_mode": {
    "name": "ipython",
    "version": 2
   },
   "file_extension": ".py",
   "mimetype": "text/x-python",
   "name": "python",
   "nbconvert_exporter": "python",
   "pygments_lexer": "ipython2",
   "version": "2.7.6"
  }
 },
 "nbformat": 4,
 "nbformat_minor": 5
}
