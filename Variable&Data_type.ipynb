{
 "cells": [
  {
   "metadata": {},
   "cell_type": "markdown",
   "source": "Viết chương trình tính tổng hai số nguyên được nhập từ bàn phím:",
   "id": "8ed9fd865226f0cc"
  },
  {
   "metadata": {
    "ExecuteTime": {
     "end_time": "2025-02-15T18:27:11.901774Z",
     "start_time": "2025-02-15T18:27:06.561691Z"
    }
   },
   "cell_type": "code",
   "source": [
    "first_number = int(input('Enter first number: '))\n",
    "second_number = int(input('Enter second number: '))\n",
    "sum = first_number + second_number\n",
    "print(sum)"
   ],
   "id": "64d4eb609fc4b270",
   "outputs": [
    {
     "name": "stdout",
     "output_type": "stream",
     "text": [
      "15\n"
     ]
    }
   ],
   "execution_count": 10
  },
  {
   "metadata": {},
   "cell_type": "markdown",
   "source": "Viết chương trình hoán đổi giá trị của hai biến số nguyên x và y cho nhau:",
   "id": "c0af0d9431c7366"
  },
  {
   "metadata": {
    "ExecuteTime": {
     "end_time": "2025-02-15T18:29:52.441475Z",
     "start_time": "2025-02-15T18:29:47.282403Z"
    }
   },
   "cell_type": "code",
   "source": [
    "x = int(input('Enter x number: '))\n",
    "y = int(input('Enter y number: '))\n",
    "x, y = y, x\n",
    "print('x =', x)\n",
    "print('y =', y)"
   ],
   "id": "a8ad49bed92486a6",
   "outputs": [
    {
     "name": "stdout",
     "output_type": "stream",
     "text": [
      "x = 27\n",
      "y = 13\n"
     ]
    }
   ],
   "execution_count": 11
  },
  {
   "metadata": {},
   "cell_type": "markdown",
   "source": "Viết chương trình đổi độ C sang độ F, với giá trị độ C được nhập từ bàn phím. F = 1.8 * C + 32",
   "id": "4260f404edfc99a0"
  },
  {
   "metadata": {
    "ExecuteTime": {
     "end_time": "2025-02-15T18:32:44.499978Z",
     "start_time": "2025-02-15T18:32:40.684403Z"
    }
   },
   "cell_type": "code",
   "source": [
    "C = float(input('Enter celsius degree: '))\n",
    "F = 1.8 * C + 32\n",
    "print(F)"
   ],
   "id": "c4d418ed81f97a39",
   "outputs": [
    {
     "name": "stdout",
     "output_type": "stream",
     "text": [
      "70.7\n"
     ]
    }
   ],
   "execution_count": 14
  },
  {
   "metadata": {},
   "cell_type": "markdown",
   "source": "Viết chương trình tính diện tích hình chữ nhật và in ra màn hình:",
   "id": "cce7ac6b701f5176"
  },
  {
   "metadata": {
    "ExecuteTime": {
     "end_time": "2025-02-15T18:36:15.166589Z",
     "start_time": "2025-02-15T18:36:06.486482Z"
    }
   },
   "cell_type": "code",
   "source": [
    "lenght = float(input('Enter lenght of a rectangle: '))\n",
    "width = float(input('Enter width of a rectangle: '))\n",
    "if (lenght and width) > 0 and lenght > width:\n",
    "    area = lenght * width\n",
    "    print(area)\n",
    "else:\n",
    "    print('Please enter a positive number and lenght must be greater than width')"
   ],
   "id": "15cface27cb698b1",
   "outputs": [
    {
     "name": "stdout",
     "output_type": "stream",
     "text": [
      "139.7\n"
     ]
    }
   ],
   "execution_count": 17
  },
  {
   "metadata": {},
   "cell_type": "markdown",
   "source": "Viết chương trình tính giá trị của biểu thức F(x) = 2x^2 + 3x^2 + 5x - 1 với x là số thực, in ra màn hình kết quả làm tròn đến 2 chữ số thập phân.",
   "id": "4e57f41968ee8e1d"
  },
  {
   "metadata": {
    "ExecuteTime": {
     "end_time": "2025-02-15T18:49:25.081074Z",
     "start_time": "2025-02-15T18:49:18.152653Z"
    }
   },
   "cell_type": "code",
   "source": [
    "x = float(input('Enter x number: '))\n",
    "result = (2 * x**3) + (3 * x**2) + (5 * x) - 1\n",
    "print(f'F({x}) = {round(result, 3)}')"
   ],
   "id": "254b5e86beaadcb",
   "outputs": [
    {
     "name": "stdout",
     "output_type": "stream",
     "text": [
      "F(-1.24) = -6.4\n"
     ]
    }
   ],
   "execution_count": 25
  },
  {
   "metadata": {},
   "cell_type": "markdown",
   "source": "Viết chương trình tính module của số phức z được nhập từ bàn phím",
   "id": "a667b3762a511487"
  },
  {
   "metadata": {
    "ExecuteTime": {
     "end_time": "2025-02-15T18:59:26.239197Z",
     "start_time": "2025-02-15T18:59:21.448459Z"
    }
   },
   "cell_type": "code",
   "source": [
    "from math import sqrt\n",
    "z = complex(input('Enter a complex number: '))\n",
    "print(z)\n",
    "module = ((z.real)**2+(z.imag)**2)**(1/2)\n",
    "print(module)"
   ],
   "id": "fca32d3f16f9eb65",
   "outputs": [
    {
     "name": "stdout",
     "output_type": "stream",
     "text": [
      "(1+1j)\n",
      "1.4142135623730951\n"
     ]
    }
   ],
   "execution_count": 31
  }
 ],
 "metadata": {
  "kernelspec": {
   "display_name": "Python 3",
   "language": "python",
   "name": "python3"
  },
  "language_info": {
   "codemirror_mode": {
    "name": "ipython",
    "version": 2
   },
   "file_extension": ".py",
   "mimetype": "text/x-python",
   "name": "python",
   "nbconvert_exporter": "python",
   "pygments_lexer": "ipython2",
   "version": "2.7.6"
  }
 },
 "nbformat": 4,
 "nbformat_minor": 5
}
