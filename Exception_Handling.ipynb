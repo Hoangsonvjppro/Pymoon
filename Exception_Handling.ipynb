{
 "cells": [
  {
   "cell_type": "code",
   "id": "initial_id",
   "metadata": {
    "collapsed": true,
    "ExecuteTime": {
     "end_time": "2025-02-23T06:38:22.569493Z",
     "start_time": "2025-02-23T06:38:18.550233Z"
    }
   },
   "source": [
    "#Viết chương trình tính tổng của hai số nguyên và in kết quả ra màn hình. Nếu người dùng nhập vào một giá trị không phải số, chương trình sẽ in ra lỗi và yêu cầu người dùng nhập lại.\n",
    "\n",
    "while True:\n",
    "    try:\n",
    "        a, b = map(float, input().split(','))\n",
    "        print(a + b)\n",
    "        break\n",
    "    except ValueError:\n",
    "        print('Please enter a number.')\n",
    "        continue"
   ],
   "outputs": [
    {
     "name": "stdout",
     "output_type": "stream",
     "text": [
      "11.0\n"
     ]
    }
   ],
   "execution_count": 4
  },
  {
   "metadata": {
    "ExecuteTime": {
     "end_time": "2025-02-22T09:00:33.208787Z",
     "start_time": "2025-02-22T09:00:28.673240Z"
    }
   },
   "cell_type": "code",
   "source": [
    "#Viết hàm tìm giá trị số lơn nhất trong một danh sách số. Nếu danh sách rỗng, chương trình sẽ raise một exception và in ra thông báo lỗi.\n",
    "class NothingInList(BaseException):\n",
    "    def __init__(self, message = None):\n",
    "        if (message is None):\n",
    "            message = 'list is empty'\n",
    "        super.__init__(message)\n",
    "\n",
    "def find_max_value(ls):\n",
    "    if(isinstance(ls, list)):\n",
    "        if(len(ls) == 0):\n",
    "            raise NothingInList()\n",
    "        return max(ls)\n",
    "\n",
    "\n",
    "ls = (input().split(','))\n",
    "print(find_max_value(ls))"
   ],
   "id": "94be5c617c7792c2",
   "outputs": [
    {
     "name": "stdout",
     "output_type": "stream",
     "text": [
      "5\n"
     ]
    }
   ],
   "execution_count": 13
  },
  {
   "metadata": {
    "ExecuteTime": {
     "end_time": "2025-02-23T06:44:07.861811Z",
     "start_time": "2025-02-23T06:43:52.553034Z"
    }
   },
   "cell_type": "code",
   "source": [
    "#Viết chương trình chuyển đổi một số nguyên dương từ hệ thập phân sang hệ nhị phân. Nếu người dùng nhập vào một giá trị không phải số nguyên dương, chương trị sẽ báo lỗi và yêu cầu nhập lại;\n",
    "dec_to_bin = lambda x: bin(x)[2:]\n",
    "\n",
    "while True:\n",
    "    try:\n",
    "        number = int(input())\n",
    "        if number >= 0 and isinstance(number, int):\n",
    "            print(dec_to_bin(number))\n",
    "            break\n",
    "    except ValueError:\n",
    "        print('Please enter a number.')\n",
    "        continue"
   ],
   "id": "5af2c8c15770c6f1",
   "outputs": [
    {
     "name": "stdout",
     "output_type": "stream",
     "text": [
      "Please enter a number.\n",
      "1100100\n"
     ]
    }
   ],
   "execution_count": 5
  },
  {
   "metadata": {
    "ExecuteTime": {
     "end_time": "2025-02-23T06:50:59.678304Z",
     "start_time": "2025-02-23T06:50:57.731225Z"
    }
   },
   "cell_type": "code",
   "source": [
    "#Viết chương trình tính giai thừa của một số nguyên dương. Nếu người dùng nhập vào một giá trị không phải số nguyên dương, chương trị sẽ báo lỗi và yêu cầu nhập lại;\n",
    "def factorial(n):\n",
    "    if n == 0 or n == 1:\n",
    "        return 1\n",
    "    else:\n",
    "        return n * factorial(n - 1)\n",
    "\n",
    "while True:\n",
    "    try:\n",
    "        number = int(input())\n",
    "        if number >= 0 and isinstance(number, int):\n",
    "            print(factorial(number))\n",
    "            break\n",
    "    except ValueError:\n",
    "        print('Please enter a number.')\n",
    "        continue"
   ],
   "id": "6c4a9e2ef88390c2",
   "outputs": [
    {
     "name": "stdout",
     "output_type": "stream",
     "text": [
      "1\n"
     ]
    }
   ],
   "execution_count": 10
  }
 ],
 "metadata": {
  "kernelspec": {
   "display_name": "Python 3",
   "language": "python",
   "name": "python3"
  },
  "language_info": {
   "codemirror_mode": {
    "name": "ipython",
    "version": 2
   },
   "file_extension": ".py",
   "mimetype": "text/x-python",
   "name": "python",
   "nbconvert_exporter": "python",
   "pygments_lexer": "ipython2",
   "version": "2.7.6"
  }
 },
 "nbformat": 4,
 "nbformat_minor": 5
}
