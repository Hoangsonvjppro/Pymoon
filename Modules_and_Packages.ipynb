{
 "cells": [
  {
   "cell_type": "code",
   "id": "initial_id",
   "metadata": {
    "collapsed": true,
    "ExecuteTime": {
     "end_time": "2025-02-20T18:26:30.842989Z",
     "start_time": "2025-02-20T18:26:22.669726Z"
    }
   },
   "source": [
    "#Tạo một package có tên geometry bao gồm hai module con circle và square. Trong module circle, tạo hàm area(radius) để tính diện tích. Trong module square, tạo hàm area(side_length) để tính diện tích hình vuông với cạnh side_length.\n",
    "from geometry import circle, square\n",
    "radius = float(input(\"Enter the radius of the circle: \"))\n",
    "side_length = float(input(\"Enter the side length of the square: \"))\n",
    "print(\"The area of the circle is: \", circle.area(radius))\n",
    "print(\"The area of the square is: \", square.area(side_length))"
   ],
   "outputs": [
    {
     "name": "stdout",
     "output_type": "stream",
     "text": [
      "The area of the circle is:  82.48369635883776\n",
      "The area of the square is:  16.0\n"
     ]
    }
   ],
   "execution_count": 1
  },
  {
   "metadata": {
    "ExecuteTime": {
     "end_time": "2025-02-20T18:35:46.357491Z",
     "start_time": "2025-02-20T18:35:43.394218Z"
    }
   },
   "cell_type": "code",
   "source": [
    "#Tạo một package có tên temperature bao gồm hai module con celsius và fahrenheit. Trong module celsius, tạo hàm to_fahrenheit(celsius) để chuyển đổi từ độ C sang độ F. Trong module fahrenheit thì ngược lại\n",
    "from temperature import celsius, fahrenheit\n",
    "cel = float(input(\"Enter the temperature in celsius: \"))\n",
    "print(f'{cel} in celsius is {celsius.to_fahrenheit(cel)} in fahrenheit')"
   ],
   "id": "edae75ae2b4e9c9",
   "outputs": [
    {
     "name": "stdout",
     "output_type": "stream",
     "text": [
      "37.0 in celsius is 98.6 in fahrenheit\n"
     ]
    }
   ],
   "execution_count": 3
  },
  {
   "metadata": {
    "ExecuteTime": {
     "end_time": "2025-02-20T18:51:54.857865Z",
     "start_time": "2025-02-20T18:51:54.852086Z"
    }
   },
   "cell_type": "code",
   "source": [
    "#Tạo một package hinh có chưa 2 subpackage là hinh2d và hinh 3d. hinh2d có các module hinhvuong, hinhtron, trong các module này định nghĩa hàm tính chuvi(), dientich(), của hình vuông và hình tròn. Trong package hinh3d có chứa module hinhtru và ham thetich().\n",
    "from hinh.hinh2d import hinhtron, hinhvuong\n",
    "from hinh.hinh3d import hinhtru\n",
    "radius_of_circle = 5\n",
    "length_of_square = 10\n",
    "s_day = 120\n",
    "high = 30\n",
    "print(\"The perimeter of the circle is: \", hinhtron.chuvi(radius_of_circle))\n",
    "print('The area of the circle is: ', hinhtron.dientich(radius_of_circle))\n",
    "print('The perimeter of the square is: ', hinhvuong.chuvi(length_of_square))\n",
    "print('The area of the square is: ', hinhvuong.dientich(length_of_square))\n",
    "print('The volume of the cylinder is ', hinhtru.thetich(s_day,high))"
   ],
   "id": "47056948afa5f285",
   "outputs": [
    {
     "name": "stdout",
     "output_type": "stream",
     "text": [
      "The perimeter of the circle is:  31.41592653589793\n",
      "The area of the circle is:  78.53981633974483\n",
      "The perimeter of the square is:  40\n",
      "The area of the square is:  100\n",
      "The volume of the cylinder is  3600\n"
     ]
    }
   ],
   "execution_count": 4
  }
 ],
 "metadata": {
  "kernelspec": {
   "display_name": "Python 3",
   "language": "python",
   "name": "python3"
  },
  "language_info": {
   "codemirror_mode": {
    "name": "ipython",
    "version": 2
   },
   "file_extension": ".py",
   "mimetype": "text/x-python",
   "name": "python",
   "nbconvert_exporter": "python",
   "pygments_lexer": "ipython2",
   "version": "2.7.6"
  }
 },
 "nbformat": 4,
 "nbformat_minor": 5
}
