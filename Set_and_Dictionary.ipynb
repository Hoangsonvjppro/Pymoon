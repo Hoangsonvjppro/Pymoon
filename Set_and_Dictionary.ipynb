{
 "cells": [
  {
   "metadata": {
    "ExecuteTime": {
     "end_time": "2025-02-18T07:14:25.886900Z",
     "start_time": "2025-02-18T07:14:21.330823Z"
    }
   },
   "cell_type": "code",
   "source": [
    "#Viết chương trình nhập vào một set các sô nguyên từ bàn phím, in ra tổng các phần tử trong set đó\n",
    "numbers = input('Enter a set of numbers separated by spaces: ').split()\n",
    "my_set = set(int(number) for number in numbers)\n",
    "print(sum(my_set))"
   ],
   "id": "721f692c877c4018",
   "outputs": [
    {
     "name": "stdout",
     "output_type": "stream",
     "text": [
      "5\n"
     ]
    }
   ],
   "execution_count": 6
  }
 ],
 "metadata": {
  "kernelspec": {
   "name": "python3",
   "language": "python",
   "display_name": "Python 3 (ipykernel)"
  }
 },
 "nbformat": 5,
 "nbformat_minor": 9
}
