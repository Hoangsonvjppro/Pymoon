{
 "cells": [
  {
   "cell_type": "code",
   "id": "initial_id",
   "metadata": {
    "collapsed": true,
    "ExecuteTime": {
     "end_time": "2025-02-22T08:43:51.189400Z",
     "start_time": "2025-02-22T08:43:45.830962Z"
    }
   },
   "source": [
    "#Viết chương trình tính tổng của hai số nguyên và in kết quả ra màn hình. Nếu người dùng nhập vào một giá trị không phải số, chương trình sẽ in ra lỗi và yêu cầu người dùng nhập lại.\n",
    "\n",
    "while True:\n",
    "    try:\n",
    "        a, b = map(float, input().split(','))\n",
    "        print(a + b)\n",
    "        break\n",
    "    except ValueError:\n",
    "        print('Please enter a number.')\n",
    "        continue"
   ],
   "outputs": [
    {
     "name": "stdout",
     "output_type": "stream",
     "text": [
      "6.5\n"
     ]
    }
   ],
   "execution_count": 6
  },
  {
   "metadata": {
    "ExecuteTime": {
     "end_time": "2025-02-22T09:00:33.208787Z",
     "start_time": "2025-02-22T09:00:28.673240Z"
    }
   },
   "cell_type": "code",
   "source": [
    "#Viết hàm tìm giá trị số lơn nhất trong một danh sách số. Nếu danh sách rỗng, chương trình sẽ raise một exception và in ra thông báo lỗi.\n",
    "class NothingInList(BaseException):\n",
    "    def __init__(self, message = None):\n",
    "        if (message is None):\n",
    "            message = 'list is empty'\n",
    "        super.__init__(message)\n",
    "\n",
    "def find_max_value(ls):\n",
    "    if(isinstance(ls, list)):\n",
    "        if(len(ls) == 0):\n",
    "            raise NothingInList()\n",
    "        return max(ls)\n",
    "\n",
    "\n",
    "ls = (input().split(','))\n",
    "print(find_max_value(ls))"
   ],
   "id": "94be5c617c7792c2",
   "outputs": [
    {
     "name": "stdout",
     "output_type": "stream",
     "text": [
      "5\n"
     ]
    }
   ],
   "execution_count": 13
  }
 ],
 "metadata": {
  "kernelspec": {
   "display_name": "Python 3",
   "language": "python",
   "name": "python3"
  },
  "language_info": {
   "codemirror_mode": {
    "name": "ipython",
    "version": 2
   },
   "file_extension": ".py",
   "mimetype": "text/x-python",
   "name": "python",
   "nbconvert_exporter": "python",
   "pygments_lexer": "ipython2",
   "version": "2.7.6"
  }
 },
 "nbformat": 4,
 "nbformat_minor": 5
}
