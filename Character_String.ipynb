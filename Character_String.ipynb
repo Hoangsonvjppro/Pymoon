{
 "cells": [
  {
   "cell_type": "code",
   "id": "initial_id",
   "metadata": {
    "collapsed": true,
    "ExecuteTime": {
     "end_time": "2025-02-19T10:43:43.112214Z",
     "start_time": "2025-02-19T10:43:35.926964Z"
    }
   },
   "source": [
    "#Viết chương trình nhập vào một chuỗi và in ra độ dài của chuỗi đó.\n",
    "s = str(input('Enter a string: '))\n",
    "print(f'length of string: {len(s)}')"
   ],
   "outputs": [
    {
     "name": "stdout",
     "output_type": "stream",
     "text": [
      "length of string: 13\n"
     ]
    }
   ],
   "execution_count": 2
  },
  {
   "metadata": {
    "ExecuteTime": {
     "end_time": "2025-02-19T11:15:01.709778Z",
     "start_time": "2025-02-19T11:14:57.253091Z"
    }
   },
   "cell_type": "code",
   "source": [
    "#Viết chương trình nhập vào một chuỗi, tách tưng từ trong chuỗi đó và lưu vào một list.\n",
    "s1 = str(input('Enter a string: ')).split(' ')\n",
    "l1 = list([ char for char in s1])\n",
    "print(l1)"
   ],
   "id": "45938fdc2ea04e03",
   "outputs": [
    {
     "name": "stdout",
     "output_type": "stream",
     "text": [
      "['Hoang', 'son', 'le']\n"
     ]
    }
   ],
   "execution_count": 7
  },
  {
   "metadata": {},
   "cell_type": "code",
   "outputs": [],
   "execution_count": null,
   "source": "",
   "id": "db629e0da8d6915c"
  }
 ],
 "metadata": {
  "kernelspec": {
   "display_name": "Python 3",
   "language": "python",
   "name": "python3"
  },
  "language_info": {
   "codemirror_mode": {
    "name": "ipython",
    "version": 2
   },
   "file_extension": ".py",
   "mimetype": "text/x-python",
   "name": "python",
   "nbconvert_exporter": "python",
   "pygments_lexer": "ipython2",
   "version": "2.7.6"
  }
 },
 "nbformat": 4,
 "nbformat_minor": 5
}
