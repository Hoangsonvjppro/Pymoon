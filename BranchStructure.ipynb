{
 "cells": [
  {
   "cell_type": "code",
   "id": "initial_id",
   "metadata": {
    "collapsed": true,
    "ExecuteTime": {
     "end_time": "2025-02-17T09:13:56.168074Z",
     "start_time": "2025-02-17T09:13:52.049275Z"
    }
   },
   "source": [
    "#Viết chương trình tính diện tích hình vuông và in ra màn hình, Kết quả làm tròn đến chữ số thập phân thứ 3\n",
    "a = float(input('Enter a number'))\n",
    "if a > 0:\n",
    "    quare_area = a * a\n",
    "    print('Area of quare is:', round(quare_area, 3))\n",
    "else:\n",
    "    print('lenght of quare must be greater than 0')"
   ],
   "outputs": [
    {
     "name": "stdout",
     "output_type": "stream",
     "text": [
      "lenght of quare must be greater than 0\n"
     ]
    }
   ],
   "execution_count": 3
  },
  {
   "metadata": {
    "ExecuteTime": {
     "end_time": "2025-02-17T09:20:32.193765Z",
     "start_time": "2025-02-17T09:20:29.146543Z"
    }
   },
   "cell_type": "code",
   "source": [
    "#Viết chương trình kiểm tra năm nhuận, biết rằng lịch dương hiện tại được tính từ năm 1582 trờ về sau:\n",
    "y = int(input('Enter a year to be checking:'))\n",
    "if y > 1582:\n",
    "    if y % 4 == 0 and y % 100 != 0 or y % 400 == 0:\n",
    "        print(f'{y} is a leap year')\n",
    "    else:\n",
    "        print(f'{y} is not a leap year')\n",
    "else:\n",
    "    print(f'{y} s not calculated according to the Gregorius calendar')"
   ],
   "id": "83939fdd26667c76",
   "outputs": [
    {
     "name": "stdout",
     "output_type": "stream",
     "text": [
      "20025 is not a leap year\n"
     ]
    }
   ],
   "execution_count": 11
  },
  {
   "metadata": {
    "ExecuteTime": {
     "end_time": "2025-02-17T09:24:35.153367Z",
     "start_time": "2025-02-17T09:24:33.283345Z"
    }
   },
   "cell_type": "code",
   "source": [
    "#Viết chương trình chuyển đổi điểm từ thang 4 sang thang 10\n",
    "GPA_4 = float(input('Enter a GPA 4 number:'))\n",
    "if 0 <= GPA_4 <= 4:\n",
    "    GPA_10 = GPA_4 * (10 / 4)\n",
    "    print('GPA(10):', GPA_10)\n",
    "else:\n",
    "    print('GPA 4 must be in range 0 to 4')"
   ],
   "id": "e2b21fb14aeabcf",
   "outputs": [
    {
     "name": "stdout",
     "output_type": "stream",
     "text": [
      "GPA 4 must be in range 0 to 4\n"
     ]
    }
   ],
   "execution_count": 17
  },
  {
   "metadata": {
    "ExecuteTime": {
     "end_time": "2025-02-17T09:30:39.840350Z",
     "start_time": "2025-02-17T09:30:35.457920Z"
    }
   },
   "cell_type": "code",
   "source": [
    "#Viết chương trình giải phương trình bậc nhất ax + b = 0;\n",
    "a,b = map(float, input('Enter two numbers').split(','))\n",
    "if a == 0 and b == 0:\n",
    "    print('The equation has infinitely many solutions')\n",
    "elif a == 0 and b != 0:\n",
    "    print('The equation has no solutions')\n",
    "else:\n",
    "    x = -b / a\n",
    "    print('The equation is', x)"
   ],
   "id": "521a15028ec8008c",
   "outputs": [
    {
     "name": "stdout",
     "output_type": "stream",
     "text": [
      "The equation has no solutions\n"
     ]
    }
   ],
   "execution_count": 20
  },
  {
   "metadata": {
    "ExecuteTime": {
     "end_time": "2025-02-17T09:48:31.294242Z",
     "start_time": "2025-02-17T09:48:25.769471Z"
    }
   },
   "cell_type": "code",
   "source": [
    "#Viết chương trình giải phương trình bậc hai ax^2 + bx + c = 0\n",
    "from math import sqrt as sq\n",
    "a,b,c = map(float, input('Enter three parameter').split(','))\n",
    "if a != 0:\n",
    "    delta = b**2 - 4 * a * c\n",
    "    print(delta)\n",
    "    if delta < 0:\n",
    "        print('The equation has no solutions')\n",
    "    elif delta == 0:\n",
    "        print(f'The equation has a double solution: {-b / (2 * a)}')\n",
    "    else:\n",
    "        print(f'x1 = {(-b + sq(delta)) / (2 * a)} x2 = {(-b - sq(delta))  / (2 * a)}')\n",
    "else:\n",
    "    print('Invalid equation')"
   ],
   "id": "d05235f6dc5ec123",
   "outputs": [
    {
     "name": "stdout",
     "output_type": "stream",
     "text": [
      "1.0\n",
      "x1 = 3.0 x2 = 2.0\n"
     ]
    }
   ],
   "execution_count": 30
  },
  {
   "metadata": {
    "ExecuteTime": {
     "end_time": "2025-02-17T09:54:16.072476Z",
     "start_time": "2025-02-17T09:54:11.530462Z"
    }
   },
   "cell_type": "code",
   "source": [
    "#Viết chương trình chuyển đổi giờ ở hệ 24 sang hệ 12:\n",
    "h,m = map(int, input('Enter hour and minutes').split(':'))\n",
    "if (0 <= h < 24) and (0 <= m < 60):\n",
    "    if h <= 12:\n",
    "        print(f'{h}:{m} AM')\n",
    "    else:\n",
    "        print(f'{h - 12}:{m} PM')\n",
    "else:\n",
    "    print('Invalid hour and minutes')"
   ],
   "id": "9e47ad3e1f7a8b19",
   "outputs": [
    {
     "name": "stdout",
     "output_type": "stream",
     "text": [
      "Invalid hour and minutes\n"
     ]
    }
   ],
   "execution_count": 36
  }
 ],
 "metadata": {
  "kernelspec": {
   "display_name": "Python 3",
   "language": "python",
   "name": "python3"
  },
  "language_info": {
   "codemirror_mode": {
    "name": "ipython",
    "version": 2
   },
   "file_extension": ".py",
   "mimetype": "text/x-python",
   "name": "python",
   "nbconvert_exporter": "python",
   "pygments_lexer": "ipython2",
   "version": "2.7.6"
  }
 },
 "nbformat": 4,
 "nbformat_minor": 5
}
