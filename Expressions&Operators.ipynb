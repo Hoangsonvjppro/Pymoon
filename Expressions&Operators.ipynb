{
 "cells": [
  {
   "cell_type": "code",
   "id": "initial_id",
   "metadata": {
    "collapsed": true,
    "ExecuteTime": {
     "end_time": "2025-02-16T16:46:32.437083Z",
     "start_time": "2025-02-16T16:46:29.169163Z"
    }
   },
   "source": [
    "#Viết chương trình tính chu vi hình tròn với bán kính r là số nguyên dương nhập từ bàn phím\n",
    "from const import PI\n",
    "r = int(input('Enter a radius: '))\n",
    "if r > 0:\n",
    "    perimeter = 2 * r * PI\n",
    "    print('The perimeter of the circle is', perimeter)\n",
    "else:\n",
    "    print('radius cannot be negative')"
   ],
   "outputs": [
    {
     "name": "stdout",
     "output_type": "stream",
     "text": [
      "radius cannot be negative\n"
     ]
    }
   ],
   "execution_count": 2
  },
  {
   "metadata": {
    "ExecuteTime": {
     "end_time": "2025-02-17T03:41:36.308820Z",
     "start_time": "2025-02-17T03:41:31.042496Z"
    }
   },
   "cell_type": "code",
   "source": [
    "#Viết chương trình chuyển đổi một số nguyên không dấu dang hệ cơ số 8\n",
    "x = int(input('Enter x: '))\n",
    "result = oct(x)\n",
    "print(result)"
   ],
   "id": "7152eef18506c337",
   "outputs": [
    {
     "name": "stdout",
     "output_type": "stream",
     "text": [
      "0o67\n"
     ]
    }
   ],
   "execution_count": 1
  },
  {
   "metadata": {
    "ExecuteTime": {
     "end_time": "2025-02-17T03:46:11.655452Z",
     "start_time": "2025-02-17T03:46:01.866841Z"
    }
   },
   "cell_type": "code",
   "source": [
    "#Tính giá trị của biểu thức y = 5x^2 + 3x + 2\n",
    "x = float(input('Enter x: '))\n",
    "y = 5*x**2 + 3*x + 2\n",
    "print('Value of expression: ', round(y,2))"
   ],
   "id": "3d753bba2f860177",
   "outputs": [
    {
     "name": "stdout",
     "output_type": "stream",
     "text": [
      "Value of expression:  35593.03\n"
     ]
    }
   ],
   "execution_count": 3
  },
  {
   "metadata": {
    "ExecuteTime": {
     "end_time": "2025-02-17T03:53:46.412159Z",
     "start_time": "2025-02-17T03:53:42.801113Z"
    }
   },
   "cell_type": "code",
   "source": [
    "#Viết chương trình tính giá trị của biểu thức:\n",
    "#   f(x) = 2^x + 3x + 4 với x >= 1.\n",
    "#   f(x) = 3^x + 2x + 1 với x < 1.\n",
    "x = float(input('Enter x: '))\n",
    "if x >= 1:\n",
    "    f = 2**x + 3*x + 4\n",
    "else:\n",
    "    f = 3**x + 2*x + 1\n",
    "print(f'f{x} = ', f)"
   ],
   "id": "6d208a43ae1da6c8",
   "outputs": [
    {
     "name": "stdout",
     "output_type": "stream",
     "text": [
      "f2.0 =  14.0\n"
     ]
    }
   ],
   "execution_count": 8
  },
  {
   "metadata": {
    "ExecuteTime": {
     "end_time": "2025-02-17T03:56:50.758440Z",
     "start_time": "2025-02-17T03:56:47.010213Z"
    }
   },
   "cell_type": "code",
   "source": [
    "#Viết chương trình nhập vào chuỗi x từ bàn phím, cho biết chuỗi vừa nhập có kí tự 'a' hay không?\n",
    "x = str(input('Enter x: '))\n",
    "a = 'a'\n",
    "print(a in x)"
   ],
   "id": "be58f0315608e25e",
   "outputs": [
    {
     "name": "stdout",
     "output_type": "stream",
     "text": [
      "False\n"
     ]
    }
   ],
   "execution_count": 11
  }
 ],
 "metadata": {
  "kernelspec": {
   "display_name": "Python 3",
   "language": "python",
   "name": "python3"
  },
  "language_info": {
   "codemirror_mode": {
    "name": "ipython",
    "version": 2
   },
   "file_extension": ".py",
   "mimetype": "text/x-python",
   "name": "python",
   "nbconvert_exporter": "python",
   "pygments_lexer": "ipython2",
   "version": "2.7.6"
  }
 },
 "nbformat": 4,
 "nbformat_minor": 5
}
