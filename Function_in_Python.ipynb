{
 "cells": [
  {
   "cell_type": "code",
   "id": "initial_id",
   "metadata": {
    "collapsed": true,
    "ExecuteTime": {
     "end_time": "2025-02-19T13:41:20.658720Z",
     "start_time": "2025-02-19T13:41:18.823267Z"
    }
   },
   "source": [
    "#Viết hàm tính giai thừa của một số nguyên\n",
    "def factorial(numbers):\n",
    "    if numbers == 1 or numbers == 0:\n",
    "        return 1\n",
    "    else:\n",
    "        return numbers * factorial(numbers - 1)\n",
    "num = int(input(\"Enter a number: \"))\n",
    "print(factorial(num))"
   ],
   "outputs": [
    {
     "name": "stdout",
     "output_type": "stream",
     "text": [
      "120\n"
     ]
    }
   ],
   "execution_count": 3
  },
  {
   "metadata": {
    "ExecuteTime": {
     "end_time": "2025-02-19T13:43:47.840854Z",
     "start_time": "2025-02-19T13:43:41.786842Z"
    }
   },
   "cell_type": "code",
   "source": [
    "#Viết hàm đảo ngược chuỗi s nhập từ bàn phím.\n",
    "def reverse_string(s):\n",
    "    return s[::-1]\n",
    "string = input(\"Enter a string: \")\n",
    "print(reverse_string(string))"
   ],
   "id": "dd4849e2405202ff",
   "outputs": [
    {
     "name": "stdout",
     "output_type": "stream",
     "text": [
      "nohtyp ot emoclew\n"
     ]
    }
   ],
   "execution_count": 5
  },
  {
   "metadata": {
    "ExecuteTime": {
     "end_time": "2025-02-19T13:49:19.236123Z",
     "start_time": "2025-02-19T13:49:19.231911Z"
    }
   },
   "cell_type": "code",
   "source": [
    "#Viết hàm tính a^b (trong đó a là số thực, b là số nguyên), kết quả làm tròn đến chữ số thập phân thứ ba\n",
    "def exponential(base, exponent):\n",
    "    return round(float(base) ** int(exponent), 3)\n",
    "print(exponential(5, 0))\n",
    "print(exponential(1.512, 3))\n",
    "print(exponential(2.5, -2))"
   ],
   "id": "508bca7636d16297",
   "outputs": [
    {
     "name": "stdout",
     "output_type": "stream",
     "text": [
      "1.0\n",
      "3.457\n",
      "0.16\n"
     ]
    }
   ],
   "execution_count": 6
  },
  {
   "metadata": {},
   "cell_type": "markdown",
   "source": "Cách 2 , sử dụng hàm ẩn lambda",
   "id": "16ebcd2d00c5325"
  },
  {
   "metadata": {
    "ExecuteTime": {
     "end_time": "2025-02-19T13:51:49.187615Z",
     "start_time": "2025-02-19T13:51:49.182833Z"
    }
   },
   "cell_type": "code",
   "source": [
    "expo = lambda base, exponent: round(float(base) ** int(exponent), 3)\n",
    "print(expo(5, 0))\n",
    "print(expo(1.512, 3))\n",
    "print(expo(2.5, -2))"
   ],
   "id": "3fe1fd97070442bc",
   "outputs": [
    {
     "name": "stdout",
     "output_type": "stream",
     "text": [
      "1.0\n",
      "3.457\n",
      "0.16\n"
     ]
    }
   ],
   "execution_count": 7
  },
  {
   "metadata": {
    "ExecuteTime": {
     "end_time": "2025-02-19T13:59:37.682834Z",
     "start_time": "2025-02-19T13:59:31.187760Z"
    }
   },
   "cell_type": "code",
   "source": [
    "#Viết hàm với tham số đầu vào là một list số nguyên =, trả về một list mới, với mỗi giá trị x trong list sẽ chuyển thành giá trị y, với y = f(x) = 2x^3 + 3x + 1\n",
    "def transform_list(ls):\n",
    "    f = lambda x : 2*x**3 + 3*x + 1\n",
    "    return list(map(f, ls))\n",
    "ls = list(map(int, input().split()))\n",
    "print(transform_list(ls))"
   ],
   "id": "5eeff9edc8f8652c",
   "outputs": [
    {
     "name": "stdout",
     "output_type": "stream",
     "text": [
      "[2031, 16061, 54091, 128121, 250151]\n"
     ]
    }
   ],
   "execution_count": 10
  },
  {
   "metadata": {
    "ExecuteTime": {
     "end_time": "2025-02-19T14:16:28.777473Z",
     "start_time": "2025-02-19T14:16:10.250863Z"
    }
   },
   "cell_type": "code",
   "source": [
    "#Viết chương trình để mã hóa một chuỗi bằng cách sử dụng thuật toán Caesar Cipher\n",
    "def ceasar_cipher(text, shift):\n",
    "    result = ''\n",
    "    for char in text:\n",
    "        if char.isalpha():\n",
    "            offset = 65 if char.isupper() else 97\n",
    "            new_char = chr((ord(char) - offset + shift) % 26 + offset)\n",
    "            result += new_char\n",
    "        else:\n",
    "            result += char\n",
    "    return result\n",
    "\n",
    "txt = input(\"Enter a text: \")\n",
    "shift = int(input(\"Enter a shift: \"))\n",
    "print(ceasar_cipher(txt, shift))"
   ],
   "id": "c48a88bbdc9b8c9c",
   "outputs": [
    {
     "name": "stdout",
     "output_type": "stream",
     "text": [
      "Wfaovu pz h opno slcls wyvnyhtpun shunbhnl\n"
     ]
    }
   ],
   "execution_count": 14
  }
 ],
 "metadata": {
  "kernelspec": {
   "display_name": "Python 3",
   "language": "python",
   "name": "python3"
  },
  "language_info": {
   "codemirror_mode": {
    "name": "ipython",
    "version": 2
   },
   "file_extension": ".py",
   "mimetype": "text/x-python",
   "name": "python",
   "nbconvert_exporter": "python",
   "pygments_lexer": "ipython2",
   "version": "2.7.6"
  }
 },
 "nbformat": 4,
 "nbformat_minor": 5
}
