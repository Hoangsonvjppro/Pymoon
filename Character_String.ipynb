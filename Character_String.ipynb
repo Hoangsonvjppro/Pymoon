{
 "cells": [
  {
   "cell_type": "code",
   "id": "initial_id",
   "metadata": {
    "collapsed": true,
    "ExecuteTime": {
     "end_time": "2025-02-19T10:43:43.112214Z",
     "start_time": "2025-02-19T10:43:35.926964Z"
    }
   },
   "source": [
    "#Viết chương trình nhập vào một chuỗi và in ra độ dài của chuỗi đó.\n",
    "s = str(input('Enter a string: '))\n",
    "print(f'length of string: {len(s)}')"
   ],
   "outputs": [
    {
     "name": "stdout",
     "output_type": "stream",
     "text": [
      "length of string: 13\n"
     ]
    }
   ],
   "execution_count": 2
  },
  {
   "metadata": {
    "ExecuteTime": {
     "end_time": "2025-02-19T11:15:01.709778Z",
     "start_time": "2025-02-19T11:14:57.253091Z"
    }
   },
   "cell_type": "code",
   "source": [
    "#Viết chương trình nhập vào một chuỗi, tách tưng từ trong chuỗi đó và lưu vào một list.\n",
    "s1 = str(input('Enter a string: ')).split(' ')\n",
    "l1 = list([ char for char in s1])\n",
    "print(l1)"
   ],
   "id": "45938fdc2ea04e03",
   "outputs": [
    {
     "name": "stdout",
     "output_type": "stream",
     "text": [
      "['Hoang', 'son', 'le']\n"
     ]
    }
   ],
   "execution_count": 7
  },
  {
   "metadata": {
    "ExecuteTime": {
     "end_time": "2025-02-19T11:34:35.956719Z",
     "start_time": "2025-02-19T11:34:31.888368Z"
    }
   },
   "cell_type": "code",
   "source": [
    "#Viết chương trình yêu cầu người dùng nhập vào một chuỗi và in ra chuỗi đó với các từ ở vị trí lẻ viết hoa và các từ ở vị trí chẵn viết thường.\n",
    "s3 = str(input('Enter a string: '))\n",
    "for i in range(0, len(s3)):\n",
    "    if i % 2 == 0:\n",
    "        print(s3[i].lower(), end='')\n",
    "    else:\n",
    "        print(s3[i].upper(), end='')"
   ],
   "id": "db629e0da8d6915c",
   "outputs": [
    {
     "name": "stdout",
     "output_type": "stream",
     "text": [
      "hElLo wOrLd"
     ]
    }
   ],
   "execution_count": 14
  },
  {
   "metadata": {
    "ExecuteTime": {
     "end_time": "2025-02-19T11:42:04.634584Z",
     "start_time": "2025-02-19T11:41:52.095268Z"
    }
   },
   "cell_type": "code",
   "source": [
    "#Viết chương trình yêu cầu người dùng nhập vào một chuỗi, in ra chuỗi sau khi được chuẩn hóa, không chứa khoảng cách đầu và cuối, tab giữa các từ\n",
    "s4 = input('Enter a string: ').split()\n",
    "s5 = ' '.join(s4)\n",
    "print(s5)"
   ],
   "id": "d6f7678fce8cd30c",
   "outputs": [
    {
     "name": "stdout",
     "output_type": "stream",
     "text": [
      "Hoang son le\n"
     ]
    }
   ],
   "execution_count": 20
  },
  {
   "metadata": {
    "ExecuteTime": {
     "end_time": "2025-02-19T11:50:44.229739Z",
     "start_time": "2025-02-19T11:50:40.915396Z"
    }
   },
   "cell_type": "code",
   "source": [
    "#Viết chương trình kiểm tra xem một chuỗi vừa nhập vào có phải chuỗi đối xứng hay không?\n",
    "s6 = input('Enter a string: ')\n",
    "is_palindrome = s6 == s6[::-1]\n",
    "print(is_palindrome)"
   ],
   "id": "6b24504b94f1f01e",
   "outputs": [
    {
     "name": "stdout",
     "output_type": "stream",
     "text": [
      "True\n"
     ]
    }
   ],
   "execution_count": 30
  }
 ],
 "metadata": {
  "kernelspec": {
   "display_name": "Python 3",
   "language": "python",
   "name": "python3"
  },
  "language_info": {
   "codemirror_mode": {
    "name": "ipython",
    "version": 2
   },
   "file_extension": ".py",
   "mimetype": "text/x-python",
   "name": "python",
   "nbconvert_exporter": "python",
   "pygments_lexer": "ipython2",
   "version": "2.7.6"
  }
 },
 "nbformat": 4,
 "nbformat_minor": 5
}
